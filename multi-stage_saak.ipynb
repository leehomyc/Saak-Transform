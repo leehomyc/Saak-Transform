{
 "cells": [
  {
   "cell_type": "code",
   "execution_count": 1,
   "metadata": {},
   "outputs": [],
   "source": [
    "# load libs\n",
    "import torch\n",
    "import argparse\n",
    "from torchvision import datasets, transforms\n",
    "import matplotlib.pyplot as plt\n",
    "import numpy as np\n",
    "from data.datasets import MNIST\n",
    "import torch.utils.data as data_utils\n",
    "from sklearn.decomposition import PCA\n",
    "import torch.nn.functional as F\n",
    "from torch.autograd import Variable"
   ]
  },
  {
   "cell_type": "code",
   "execution_count": 3,
   "metadata": {},
   "outputs": [
    {
     "name": "stdout",
     "output_type": "stream",
     "text": [
      "0.2.0_4\n"
     ]
    }
   ],
   "source": [
    "'''\n",
    "@ Original 28x28 is rescaled to 32x32 to meet 2^P size\n",
    "@ batch_size and workders can be increased for faster loading\n",
    "'''\n",
    "print(torch.__version__)\n",
    "batch_size=1\n",
    "test_batch_size=1\n",
    "kwargs={}\n",
    "train_loader=data_utils.DataLoader(MNIST(root='./data',train=True,process=False,transform=transforms.Compose([\n",
    "    transforms.Scale((32,32)),\n",
    "    transforms.ToTensor(),\n",
    "])),batch_size=batch_size,shuffle=True,**kwargs)\n",
    "\n",
    "\n",
    "test_loader=data_utils.DataLoader(MNIST(root='./data',train=False,process=False,transform=transforms.Compose([\n",
    "    transforms.Scale((32,32)),\n",
    "    transforms.ToTensor(),\n",
    "])),batch_size=test_batch_size,shuffle=True,**kwargs)"
   ]
  },
  {
   "cell_type": "code",
   "execution_count": 5,
   "metadata": {},
   "outputs": [],
   "source": [
    "'''\n",
    "@ For demo use, only use first 1000 samples\n",
    "'''\n",
    "def create_numpy_dataset():\n",
    "    datasets = []\n",
    "    for data in train_loader:\n",
    "        data_numpy = data[0].numpy()\n",
    "        data_numpy = np.squeeze(data_numpy)\n",
    "        datasets.append(data_numpy)\n",
    "\n",
    "    datasets = np.array(datasets)\n",
    "    datasets=np.expand_dims(datasets,axis=1)\n",
    "    print('Numpy dataset shape is {}'.format(datasets.shape))\n",
    "    return datasets[:1000]"
   ]
  },
  {
   "cell_type": "code",
   "execution_count": 8,
   "metadata": {},
   "outputs": [],
   "source": [
    "'''\n",
    "@ return: augmented anchors\n",
    "'''\n",
    "def PCA_and_augment(data_in):\n",
    "    # data reshape\n",
    "    data=np.reshape(data_in,(data_in.shape[0],-1))\n",
    "    print('PCA_and_augment: {}'.format(data.shape))\n",
    "    # mean removal\n",
    "    mean = np.mean(data, axis=0)\n",
    "    datas_mean_remov = data - mean\n",
    "    print('PCA_and_augment meanremove shape: {}'.format(datas_mean_remov.shape))\n",
    "\n",
    "    # PCA, retain all components\n",
    "    pca=PCA()\n",
    "    pca.fit(datas_mean_remov)\n",
    "    comps=pca.components_\n",
    "\n",
    "    # augment, DC component doesn't\n",
    "    comps_aug=[vec*(-1) for vec in comps[1:]]\n",
    "    comps_complete=np.vstack((comps,comps_aug))\n",
    "    print('PCA_and_augment comps_complete shape: {}'.format(comps_complete.shape))\n",
    "    return comps_complete"
   ]
  },
  {
   "cell_type": "code",
   "execution_count": 21,
   "metadata": {
    "collapsed": true
   },
   "outputs": [],
   "source": [
    "'''\n",
    "@ depth: determine shape, initial: 0\n",
    "'''\n",
    "from itertools import product\n",
    "def fit_pca_shape(datasets,depth):\n",
    "    factor=np.power(2,depth)\n",
    "    length=32/factor\n",
    "    print('fit_pca_shape: length: {}'.format(length))\n",
    "    idx1=range(0,int(length),2)\n",
    "    idx2=[i+2 for i in idx1]\n",
    "    print('fit_pca_shape: idx1: {}'.format(idx1))\n",
    "    data_lattice=[datasets[:,:,i:j,k:l] for ((i,j),(k,l)) in product(zip(idx1,idx2),zip(idx1,idx2))]\n",
    "    data_lattice=np.array(data_lattice)\n",
    "    print('fit_pca_shape: data_lattice.shape: {}'.format(data_lattice.shape))\n",
    "\n",
    "    #shape reshape\n",
    "    data=np.reshape(data_lattice,(data_lattice.shape[0]*data_lattice.shape[1],data_lattice.shape[2],2,2))\n",
    "    print('fit_pca_shape: reshape: {}'.format(data.shape))\n",
    "    return data"
   ]
  },
  {
   "cell_type": "code",
   "execution_count": 25,
   "metadata": {
    "collapsed": true
   },
   "outputs": [],
   "source": [
    "'''\n",
    "@ Prepare shape changes. \n",
    "@ return filters for convolution\n",
    "@ aug_anchors: [out_num*in_num,4] -> [out_num,in_num,2,2]\n",
    "'''\n",
    "def ret_filt_patches(aug_anchors,input_channels):\n",
    "    shape=aug_anchors.shape[1]/4\n",
    "    num=aug_anchors.shape[0]\n",
    "    filt=np.reshape(aug_anchors,(int(num),int(shape),4))\n",
    "    \n",
    "    # reshape to kernels, (# output_channels,# input_channels,2,2)\n",
    "    filters=np.reshape(filt,(int(num),int(shape),2,2))\n",
    "\n",
    "    return filters"
   ]
  },
  {
   "cell_type": "code",
   "execution_count": 11,
   "metadata": {
    "collapsed": true
   },
   "outputs": [],
   "source": [
    "'''\n",
    "@ input: kernel and data\n",
    "@ output: conv+relu result\n",
    "'''\n",
    "def conv_and_relu(filters,datasets,stride=2):\n",
    "    # torch data change\n",
    "    filters_t=torch.from_numpy(filters)\n",
    "    datasets_t=torch.from_numpy(datasets)\n",
    "\n",
    "    # Variables\n",
    "    filt=Variable(filters_t).type(torch.FloatTensor)\n",
    "    data=Variable(datasets_t).type(torch.FloatTensor)\n",
    "\n",
    "    # Convolution\n",
    "    output=F.conv2d(data,filt,stride=stride)\n",
    "\n",
    "    # Relu\n",
    "    relu_output=F.relu(output)\n",
    "\n",
    "    return relu_output,filt"
   ]
  },
  {
   "cell_type": "code",
   "execution_count": 22,
   "metadata": {},
   "outputs": [],
   "source": [
    "'''\n",
    "@ One-stage Saak transform\n",
    "@ input: datasets [60000,channel,size,size]\n",
    "'''\n",
    "def one_stage_saak_trans(datasets=None,depth=0):\n",
    "\n",
    "\n",
    "    # intial dataset, (60000,1,32,32)\n",
    "    # channel change: 1->7\n",
    "    print('one_stage_saak_trans: datasets.shape {}'.format(datasets.shape))\n",
    "    input_channels=datasets.shape[1]\n",
    "\n",
    "    # change data shape, (14*60000,4)\n",
    "    data_flatten=fit_pca_shape(datasets,depth)\n",
    "    \n",
    "    # augmented components, first round: (7,4), only augment AC components\n",
    "    comps_complete=PCA_and_augment(data_flatten)\n",
    "    print('one_stage_saak_trans: comps_complete: {}'.format(comps_complete.shape))\n",
    "\n",
    "    # get filter, (7,1,2,2) \n",
    "    filters=ret_filt_patches(comps_complete,input_channels)\n",
    "    print('one_stage_saak_trans: filters: {}'.format(filters.shape))\n",
    "\n",
    "    # output (60000,7,14,14)\n",
    "    relu_output,filt=conv_and_relu(filters,datasets,stride=2)\n",
    "\n",
    "    data=relu_output.data.numpy()\n",
    "    print('one_stage_saak_trans: output: {}'.format(data.shape))\n",
    "    return data,filt,relu_output\n"
   ]
  },
  {
   "cell_type": "code",
   "execution_count": 18,
   "metadata": {},
   "outputs": [],
   "source": [
    "'''\n",
    "@ Multi-stage Saak transform\n",
    "'''\n",
    "def multi_stage_saak_trans():\n",
    "    filters = []\n",
    "    outputs = []\n",
    "\n",
    "    data=create_numpy_dataset()\n",
    "    dataset=data\n",
    "    num=0\n",
    "    img_len=data.shape[-1]\n",
    "    while(img_len>=2):\n",
    "        num+=1\n",
    "        img_len/=2\n",
    "\n",
    "\n",
    "    for i in range(num):\n",
    "        print('{} stage of saak transform: '.format(i))\n",
    "        data,filt,output=one_stage_saak_trans(data,depth=i)\n",
    "        filters.append(filt)\n",
    "        outputs.append(output)\n",
    "        print('')\n",
    "\n",
    "\n",
    "    return dataset,filters,outputs"
   ]
  },
  {
   "cell_type": "code",
   "execution_count": 26,
   "metadata": {},
   "outputs": [
    {
     "name": "stdout",
     "output_type": "stream",
     "text": [
      "Numpy dataset shape is (60000, 1, 32, 32)\n",
      "0 stage of saak transform: \n",
      "one_stage_saak_trans: datasets.shape (1000, 1, 32, 32)\n",
      "fit_pca_shape: length: 32.0\n",
      "fit_pca_shape: idx1: range(0, 32, 2)\n",
      "fit_pca_shape: data_lattice.shape: (256, 1000, 1, 2, 2)\n",
      "fit_pca_shape: reshape: (256000, 1, 2, 2)\n",
      "PCA_and_augment: (256000, 4)\n",
      "PCA_and_augment meanremove shape: (256000, 4)\n",
      "PCA_and_augment comps_complete shape: (7, 4)\n",
      "one_stage_saak_trans: comps_complete: (7, 4)\n",
      "one_stage_saak_trans: filters: (7, 1, 2, 2)\n",
      "one_stage_saak_trans: output: (1000, 7, 16, 16)\n",
      "\n",
      "1 stage of saak transform: \n",
      "one_stage_saak_trans: datasets.shape (1000, 7, 16, 16)\n",
      "fit_pca_shape: length: 16.0\n",
      "fit_pca_shape: idx1: range(0, 16, 2)\n",
      "fit_pca_shape: data_lattice.shape: (64, 1000, 7, 2, 2)\n",
      "fit_pca_shape: reshape: (64000, 7, 2, 2)\n",
      "PCA_and_augment: (64000, 28)\n",
      "PCA_and_augment meanremove shape: (64000, 28)\n",
      "PCA_and_augment comps_complete shape: (55, 28)\n",
      "one_stage_saak_trans: comps_complete: (55, 28)\n",
      "one_stage_saak_trans: filters: (55, 7, 2, 2)\n",
      "one_stage_saak_trans: output: (1000, 55, 8, 8)\n",
      "\n",
      "2 stage of saak transform: \n",
      "one_stage_saak_trans: datasets.shape (1000, 55, 8, 8)\n",
      "fit_pca_shape: length: 8.0\n",
      "fit_pca_shape: idx1: range(0, 8, 2)\n",
      "fit_pca_shape: data_lattice.shape: (16, 1000, 55, 2, 2)\n",
      "fit_pca_shape: reshape: (16000, 55, 2, 2)\n",
      "PCA_and_augment: (16000, 220)\n",
      "PCA_and_augment meanremove shape: (16000, 220)\n",
      "PCA_and_augment comps_complete shape: (439, 220)\n",
      "one_stage_saak_trans: comps_complete: (439, 220)\n",
      "one_stage_saak_trans: filters: (439, 55, 2, 2)\n",
      "one_stage_saak_trans: output: (1000, 439, 4, 4)\n",
      "\n",
      "3 stage of saak transform: \n",
      "one_stage_saak_trans: datasets.shape (1000, 439, 4, 4)\n",
      "fit_pca_shape: length: 4.0\n",
      "fit_pca_shape: idx1: range(0, 4, 2)\n",
      "fit_pca_shape: data_lattice.shape: (4, 1000, 439, 2, 2)\n",
      "fit_pca_shape: reshape: (4000, 439, 2, 2)\n",
      "PCA_and_augment: (4000, 1756)\n",
      "PCA_and_augment meanremove shape: (4000, 1756)\n",
      "PCA_and_augment comps_complete shape: (3511, 1756)\n",
      "one_stage_saak_trans: comps_complete: (3511, 1756)\n",
      "one_stage_saak_trans: filters: (3511, 439, 2, 2)\n",
      "one_stage_saak_trans: output: (1000, 3511, 2, 2)\n",
      "\n",
      "4 stage of saak transform: \n",
      "one_stage_saak_trans: datasets.shape (1000, 3511, 2, 2)\n",
      "fit_pca_shape: length: 2.0\n",
      "fit_pca_shape: idx1: range(0, 2, 2)\n",
      "fit_pca_shape: data_lattice.shape: (1, 1000, 3511, 2, 2)\n",
      "fit_pca_shape: reshape: (1000, 3511, 2, 2)\n",
      "PCA_and_augment: (1000, 14044)\n",
      "PCA_and_augment meanremove shape: (1000, 14044)\n",
      "PCA_and_augment comps_complete shape: (1999, 14044)\n",
      "one_stage_saak_trans: comps_complete: (1999, 14044)\n",
      "one_stage_saak_trans: filters: (1999, 3511, 2, 2)\n",
      "one_stage_saak_trans: output: (1000, 1999, 1, 1)\n",
      "\n"
     ]
    }
   ],
   "source": [
    "data,filters,outputs=multi_stage_saak_trans()"
   ]
  },
  {
   "cell_type": "code",
   "execution_count": 27,
   "metadata": {
    "collapsed": true
   },
   "outputs": [],
   "source": [
    "# show sample\n",
    "def show_sample(data):\n",
    "    plt.imshow(data)\n",
    "    plt.gray()\n",
    "    plt.show()"
   ]
  },
  {
   "cell_type": "code",
   "execution_count": 28,
   "metadata": {},
   "outputs": [
    {
     "data": {
      "image/png": "[encoded data removed]",
      "text/plain": [
       "<matplotlib.figure.Figure at 0x12235eb38>"
      ]
     },
     "metadata": {},
     "output_type": "display_data"
    }
   ],
   "source": [
    "dat1=F.conv_transpose2d(outputs[0],filters[0],stride=2)\n",
    "dat1=dat1.data.numpy()\n",
    "show_sample(dat1[0][0])"
   ]
  },
  {
   "cell_type": "code",
   "execution_count": 29,
   "metadata": {},
   "outputs": [
    {
     "data": {
      "image/png": "[encoded data removed]",
      "text/plain": [
       "<matplotlib.figure.Figure at 0x12235e240>"
      ]
     },
     "metadata": {},
     "output_type": "display_data"
    }
   ],
   "source": [
    "dat3=F.conv_transpose2d(outputs[1],filters[1],stride=2)\n",
    "dat3=dat3.data.numpy()\n",
    "show_sample(dat3[0][0])"
   ]
  },
  {
   "cell_type": "code",
   "execution_count": 30,
   "metadata": {},
   "outputs": [
    {
     "data": {
      "image/png": "[encoded data removed]",
      "text/plain": [
       "<matplotlib.figure.Figure at 0x122662320>"
      ]
     },
     "metadata": {},
     "output_type": "display_data"
    }
   ],
   "source": [
    "dat4=F.conv_transpose2d(outputs[2],filters[2],stride=2)\n",
    "dat4=dat4.data.numpy()\n",
    "show_sample(dat4[0][0])"
   ]
  },
  {
   "cell_type": "code",
   "execution_count": 31,
   "metadata": {},
   "outputs": [
    {
     "data": {
      "image/png": "[encoded data removed]",
      "text/plain": [
       "<matplotlib.figure.Figure at 0x12235ecf8>"
      ]
     },
     "metadata": {},
     "output_type": "display_data"
    }
   ],
   "source": [
    "dat5=F.conv_transpose2d(outputs[3],filters[3],stride=2)\n",
    "dat5=dat5.data.numpy()\n",
    "show_sample(dat5[0][0])"
   ]
  },
  {
   "cell_type": "code",
   "execution_count": 32,
   "metadata": {},
   "outputs": [
    {
     "data": {
      "image/png": "[encoded data removed]",
      "text/plain": [
       "<matplotlib.figure.Figure at 0x134f99b00>"
      ]
     },
     "metadata": {},
     "output_type": "display_data"
    }
   ],
   "source": [
    "dat6=F.conv_transpose2d(outputs[4],filters[4],stride=2)\n",
    "dat6=dat6.data.numpy()\n",
    "show_sample(dat6[0][0])"
   ]
  },
  {
   "cell_type": "code",
   "execution_count": 33,
   "metadata": {
    "collapsed": true
   },
   "outputs": [],
   "source": [
    "'''\n",
    "@ Reconstruct from second-last stage\n",
    "@ In fact, can be from any stage\n",
    "'''\n",
    "def toy_recon(outputs,filters):\n",
    "    outputs=outputs[::-1][1:]\n",
    "    filters=filters[::-1][1:]\n",
    "    num=len(outputs)\n",
    "    data=outputs[0]\n",
    "    for i in range(num):\n",
    "        data = F.conv_transpose2d(data, filters[i], stride=2)\n",
    "\n",
    "    return data"
   ]
  },
  {
   "cell_type": "code",
   "execution_count": 34,
   "metadata": {
    "collapsed": true
   },
   "outputs": [],
   "source": [
    "ret=toy_recon(outputs,filters)"
   ]
  },
  {
   "cell_type": "code",
   "execution_count": 35,
   "metadata": {},
   "outputs": [
    {
     "data": {
      "image/png": "[encoded data removed]",
      "text/plain": [
       "<matplotlib.figure.Figure at 0x1224c9e80>"
      ]
     },
     "metadata": {},
     "output_type": "display_data"
    },
    {
     "data": {
      "image/png": "[encoded data removed]",
      "text/plain": [
       "<matplotlib.figure.Figure at 0x12292ecc0>"
      ]
     },
     "metadata": {},
     "output_type": "display_data"
    }
   ],
   "source": [
    "show_sample(data[0][0])\n",
    "inv_img=ret.data.numpy()[0][0]\n",
    "show_sample(inv_img)"
   ]
  },
  {
   "cell_type": "code",
   "execution_count": null,
   "metadata": {
    "collapsed": true
   },
   "outputs": [],
   "source": []
  }
 ],
 "metadata": {
  "anaconda-cloud": {},
  "kernelspec": {
   "display_name": "Python [default]",
   "language": "python",
   "name": "python3"
  },
  "language_info": {
   "codemirror_mode": {
    "name": "ipython",
    "version": 3
   },
   "file_extension": ".py",
   "mimetype": "text/x-python",
   "name": "python",
   "nbconvert_exporter": "python",
   "pygments_lexer": "ipython3",
   "version": "3.6.3"
  }
 },
 "nbformat": 4,
 "nbformat_minor": 1
}
